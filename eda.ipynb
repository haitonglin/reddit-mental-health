{
 "cells": [
  {
   "cell_type": "markdown",
   "metadata": {},
   "source": [
    "## EDA"
   ]
  },
  {
   "cell_type": "code",
   "execution_count": 15,
   "metadata": {},
   "outputs": [],
   "source": [
    "import pandas as pd\n",
    "import numpy as np\n",
    "from datasets import load_dataset"
   ]
  },
  {
   "cell_type": "code",
   "execution_count": 16,
   "metadata": {},
   "outputs": [
    {
     "name": "stderr",
     "output_type": "stream",
     "text": [
      "Repo card metadata block was not found. Setting CardData to empty.\n"
     ]
    }
   ],
   "source": [
    "ds = load_dataset(\"solomonk/reddit_mental_health_posts\")"
   ]
  },
  {
   "cell_type": "code",
   "execution_count": 17,
   "metadata": {},
   "outputs": [
    {
     "name": "stdout",
     "output_type": "stream",
     "text": [
      "Dataset structure: DatasetDict({\n",
      "    train: Dataset({\n",
      "        features: ['author', 'body', 'created_utc', 'id', 'num_comments', 'score', 'subreddit', 'title', 'upvote_ratio', 'url'],\n",
      "        num_rows: 151288\n",
      "    })\n",
      "})\n",
      "\n",
      "Features: {'author': Value(dtype='string', id=None), 'body': Value(dtype='string', id=None), 'created_utc': Value(dtype='string', id=None), 'id': Value(dtype='string', id=None), 'num_comments': Value(dtype='int64', id=None), 'score': Value(dtype='int64', id=None), 'subreddit': Value(dtype='string', id=None), 'title': Value(dtype='string', id=None), 'upvote_ratio': Value(dtype='float64', id=None), 'url': Value(dtype='string', id=None)}\n",
      "\n",
      "Number of examples: 151288\n"
     ]
    }
   ],
   "source": [
    "print(f\"Dataset structure: {ds}\")\n",
    "print(f\"\\nFeatures: {ds['train'].features}\")\n",
    "print(f\"\\nNumber of examples: {len(ds['train'])}\")"
   ]
  },
  {
   "cell_type": "code",
   "execution_count": 21,
   "metadata": {},
   "outputs": [
    {
     "name": "stdout",
     "output_type": "stream",
     "text": [
      "Dataset structure:\n",
      "DatasetDict({\n",
      "    train: Dataset({\n",
      "        features: ['author', 'body', 'created_utc', 'id', 'num_comments', 'score', 'subreddit', 'title', 'upvote_ratio', 'url'],\n",
      "        num_rows: 151288\n",
      "    })\n",
      "})\n"
     ]
    }
   ],
   "source": [
    "print(\"Dataset structure:\")\n",
    "print(ds)\n",
    "\n",
    "df = ds['train'].to_pandas()"
   ]
  },
  {
   "cell_type": "code",
   "execution_count": 23,
   "metadata": {},
   "outputs": [
    {
     "name": "stdout",
     "output_type": "stream",
     "text": [
      "DataFrame shape: (151288, 10)\n",
      "\n",
      "Columns: ['author', 'body', 'created_utc', 'id', 'num_comments', 'score', 'subreddit', 'title', 'upvote_ratio', 'url']\n",
      "\n",
      "First few rows:\n",
      "                author                                               body  \\\n",
      "0  HotConversation1273  A few months ago I was accepted into this full...   \n",
      "1           snorefestt  Hey guys, I was curious if anyone else has the...   \n",
      "2               etyf12   \\n\\ni have 6 exams in the next 2 weeks one of...   \n",
      "3    GetHairOrDieTryin  Is there anyone out there that is struggling w...   \n",
      "4         ZeroTransPat  Whenever I get hungry, I never eat because I d...   \n",
      "\n",
      "                created_utc      id  num_comments  score subreddit  \\\n",
      "0  2021-12-22T18:32:56.000Z  rmbjwb             1      1      ADHD   \n",
      "1  2021-12-22T18:24:25.000Z  rmbd1y             3      5      ADHD   \n",
      "2  2021-12-22T18:22:52.000Z  rmbbvu             1      2      ADHD   \n",
      "3  2021-12-22T18:20:35.000Z  rmba1t             3      2      ADHD   \n",
      "4  2021-12-22T18:18:47.000Z  rmb8lm             2      1      ADHD   \n",
      "\n",
      "                                               title  upvote_ratio  \\\n",
      "0    I get extremely anxious if I’m not working 24/7           1.0   \n",
      "1  I can't will myself to clean my own house, but...           1.0   \n",
      "2                                   i need some help           1.0   \n",
      "3                              Anyone up for a chat?           1.0   \n",
      "4                     Figuring out what to eat sucks           1.0   \n",
      "\n",
      "                                                 url  \n",
      "0  https://www.reddit.com/r/ADHD/comments/rmbjwb/...  \n",
      "1  https://www.reddit.com/r/ADHD/comments/rmbd1y/...  \n",
      "2  https://www.reddit.com/r/ADHD/comments/rmbbvu/...  \n",
      "3  https://www.reddit.com/r/ADHD/comments/rmba1t/...  \n",
      "4  https://www.reddit.com/r/ADHD/comments/rmb8lm/...  \n"
     ]
    }
   ],
   "source": [
    "print(\"DataFrame shape:\", df.shape)\n",
    "print(\"\\nColumns:\", df.columns.tolist())\n",
    "print(\"\\nFirst few rows:\")\n",
    "print(df.head())"
   ]
  },
  {
   "cell_type": "code",
   "execution_count": 22,
   "metadata": {},
   "outputs": [
    {
     "name": "stdout",
     "output_type": "stream",
     "text": [
      "Dataset info:\n",
      "<class 'pandas.core.frame.DataFrame'>\n",
      "RangeIndex: 151288 entries, 0 to 151287\n",
      "Data columns (total 10 columns):\n",
      " #   Column        Non-Null Count   Dtype  \n",
      "---  ------        --------------   -----  \n",
      " 0   author        151288 non-null  object \n",
      " 1   body          149679 non-null  object \n",
      " 2   created_utc   151288 non-null  object \n",
      " 3   id            151288 non-null  object \n",
      " 4   num_comments  151288 non-null  int64  \n",
      " 5   score         151288 non-null  int64  \n",
      " 6   subreddit     151288 non-null  object \n",
      " 7   title         151288 non-null  object \n",
      " 8   upvote_ratio  151288 non-null  float64\n",
      " 9   url           151288 non-null  object \n",
      "dtypes: float64(1), int64(2), object(7)\n",
      "memory usage: 11.5+ MB\n",
      "None\n"
     ]
    }
   ],
   "source": [
    "print(\"Dataset info:\")\n",
    "print(df.info())"
   ]
  },
  {
   "cell_type": "code",
   "execution_count": null,
   "metadata": {},
   "outputs": [],
   "source": []
  }
 ],
 "metadata": {
  "kernelspec": {
   "display_name": "base",
   "language": "python",
   "name": "python3"
  },
  "language_info": {
   "codemirror_mode": {
    "name": "ipython",
    "version": 3
   },
   "file_extension": ".py",
   "mimetype": "text/x-python",
   "name": "python",
   "nbconvert_exporter": "python",
   "pygments_lexer": "ipython3",
   "version": "3.11.9"
  }
 },
 "nbformat": 4,
 "nbformat_minor": 2
}
