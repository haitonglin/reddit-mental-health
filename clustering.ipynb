{
 "cells": [
  {
   "cell_type": "markdown",
   "metadata": {},
   "source": [
    "### Clustering"
   ]
  },
  {
   "cell_type": "code",
   "execution_count": 13,
   "metadata": {},
   "outputs": [
    {
     "name": "stderr",
     "output_type": "stream",
     "text": [
      "[nltk_data] Downloading package stopwords to\n",
      "[nltk_data]     /Users/haitong/nltk_data...\n",
      "[nltk_data]   Package stopwords is already up-to-date!\n"
     ]
    }
   ],
   "source": [
    "from gensim.models import LdaModel\n",
    "from gensim.corpora import Dictionary\n",
    "from pprint import pprint\n",
    "from datasets import load_dataset\n",
    "import pandas as pd\n",
    "import re\n",
    "import nltk\n",
    "from nltk.corpus import stopwords\n",
    "import string\n",
    "\n",
    "nltk.download('stopwords')\n",
    "stop_words = set(stopwords.words('english'))"
   ]
  },
  {
   "cell_type": "code",
   "execution_count": 3,
   "metadata": {},
   "outputs": [
    {
     "name": "stderr",
     "output_type": "stream",
     "text": [
      "Repo card metadata block was not found. Setting CardData to empty.\n"
     ]
    },
    {
     "name": "stdout",
     "output_type": "stream",
     "text": [
      "Dataset structure: DatasetDict({\n",
      "    train: Dataset({\n",
      "        features: ['author', 'body', 'created_utc', 'id', 'num_comments', 'score', 'subreddit', 'title', 'upvote_ratio', 'url'],\n",
      "        num_rows: 151288\n",
      "    })\n",
      "})\n",
      "\n",
      "Features: {'author': Value(dtype='string', id=None), 'body': Value(dtype='string', id=None), 'created_utc': Value(dtype='string', id=None), 'id': Value(dtype='string', id=None), 'num_comments': Value(dtype='int64', id=None), 'score': Value(dtype='int64', id=None), 'subreddit': Value(dtype='string', id=None), 'title': Value(dtype='string', id=None), 'upvote_ratio': Value(dtype='float64', id=None), 'url': Value(dtype='string', id=None)}\n",
      "\n",
      "Number of examples: 151288\n"
     ]
    },
    {
     "data": {
      "text/html": [
       "<div>\n",
       "<style scoped>\n",
       "    .dataframe tbody tr th:only-of-type {\n",
       "        vertical-align: middle;\n",
       "    }\n",
       "\n",
       "    .dataframe tbody tr th {\n",
       "        vertical-align: top;\n",
       "    }\n",
       "\n",
       "    .dataframe thead th {\n",
       "        text-align: right;\n",
       "    }\n",
       "</style>\n",
       "<table border=\"1\" class=\"dataframe\">\n",
       "  <thead>\n",
       "    <tr style=\"text-align: right;\">\n",
       "      <th></th>\n",
       "      <th>author</th>\n",
       "      <th>body</th>\n",
       "      <th>created_utc</th>\n",
       "      <th>id</th>\n",
       "      <th>num_comments</th>\n",
       "      <th>score</th>\n",
       "      <th>subreddit</th>\n",
       "      <th>title</th>\n",
       "      <th>upvote_ratio</th>\n",
       "      <th>url</th>\n",
       "    </tr>\n",
       "  </thead>\n",
       "  <tbody>\n",
       "    <tr>\n",
       "      <th>0</th>\n",
       "      <td>HotConversation1273</td>\n",
       "      <td>A few months ago I was accepted into this full...</td>\n",
       "      <td>2021-12-22T18:32:56.000Z</td>\n",
       "      <td>rmbjwb</td>\n",
       "      <td>1</td>\n",
       "      <td>1</td>\n",
       "      <td>ADHD</td>\n",
       "      <td>I get extremely anxious if I’m not working 24/7</td>\n",
       "      <td>1.0</td>\n",
       "      <td>https://www.reddit.com/r/ADHD/comments/rmbjwb/...</td>\n",
       "    </tr>\n",
       "    <tr>\n",
       "      <th>1</th>\n",
       "      <td>snorefestt</td>\n",
       "      <td>Hey guys, I was curious if anyone else has the...</td>\n",
       "      <td>2021-12-22T18:24:25.000Z</td>\n",
       "      <td>rmbd1y</td>\n",
       "      <td>3</td>\n",
       "      <td>5</td>\n",
       "      <td>ADHD</td>\n",
       "      <td>I can't will myself to clean my own house, but...</td>\n",
       "      <td>1.0</td>\n",
       "      <td>https://www.reddit.com/r/ADHD/comments/rmbd1y/...</td>\n",
       "    </tr>\n",
       "    <tr>\n",
       "      <th>2</th>\n",
       "      <td>etyf12</td>\n",
       "      <td>\\n\\ni have 6 exams in the next 2 weeks one of...</td>\n",
       "      <td>2021-12-22T18:22:52.000Z</td>\n",
       "      <td>rmbbvu</td>\n",
       "      <td>1</td>\n",
       "      <td>2</td>\n",
       "      <td>ADHD</td>\n",
       "      <td>i need some help</td>\n",
       "      <td>1.0</td>\n",
       "      <td>https://www.reddit.com/r/ADHD/comments/rmbbvu/...</td>\n",
       "    </tr>\n",
       "    <tr>\n",
       "      <th>3</th>\n",
       "      <td>GetHairOrDieTryin</td>\n",
       "      <td>Is there anyone out there that is struggling w...</td>\n",
       "      <td>2021-12-22T18:20:35.000Z</td>\n",
       "      <td>rmba1t</td>\n",
       "      <td>3</td>\n",
       "      <td>2</td>\n",
       "      <td>ADHD</td>\n",
       "      <td>Anyone up for a chat?</td>\n",
       "      <td>1.0</td>\n",
       "      <td>https://www.reddit.com/r/ADHD/comments/rmba1t/...</td>\n",
       "    </tr>\n",
       "    <tr>\n",
       "      <th>4</th>\n",
       "      <td>ZeroTransPat</td>\n",
       "      <td>Whenever I get hungry, I never eat because I d...</td>\n",
       "      <td>2021-12-22T18:18:47.000Z</td>\n",
       "      <td>rmb8lm</td>\n",
       "      <td>2</td>\n",
       "      <td>1</td>\n",
       "      <td>ADHD</td>\n",
       "      <td>Figuring out what to eat sucks</td>\n",
       "      <td>1.0</td>\n",
       "      <td>https://www.reddit.com/r/ADHD/comments/rmb8lm/...</td>\n",
       "    </tr>\n",
       "  </tbody>\n",
       "</table>\n",
       "</div>"
      ],
      "text/plain": [
       "                author                                               body  \\\n",
       "0  HotConversation1273  A few months ago I was accepted into this full...   \n",
       "1           snorefestt  Hey guys, I was curious if anyone else has the...   \n",
       "2               etyf12   \\n\\ni have 6 exams in the next 2 weeks one of...   \n",
       "3    GetHairOrDieTryin  Is there anyone out there that is struggling w...   \n",
       "4         ZeroTransPat  Whenever I get hungry, I never eat because I d...   \n",
       "\n",
       "                created_utc      id  num_comments  score subreddit  \\\n",
       "0  2021-12-22T18:32:56.000Z  rmbjwb             1      1      ADHD   \n",
       "1  2021-12-22T18:24:25.000Z  rmbd1y             3      5      ADHD   \n",
       "2  2021-12-22T18:22:52.000Z  rmbbvu             1      2      ADHD   \n",
       "3  2021-12-22T18:20:35.000Z  rmba1t             3      2      ADHD   \n",
       "4  2021-12-22T18:18:47.000Z  rmb8lm             2      1      ADHD   \n",
       "\n",
       "                                               title  upvote_ratio  \\\n",
       "0    I get extremely anxious if I’m not working 24/7           1.0   \n",
       "1  I can't will myself to clean my own house, but...           1.0   \n",
       "2                                   i need some help           1.0   \n",
       "3                              Anyone up for a chat?           1.0   \n",
       "4                     Figuring out what to eat sucks           1.0   \n",
       "\n",
       "                                                 url  \n",
       "0  https://www.reddit.com/r/ADHD/comments/rmbjwb/...  \n",
       "1  https://www.reddit.com/r/ADHD/comments/rmbd1y/...  \n",
       "2  https://www.reddit.com/r/ADHD/comments/rmbbvu/...  \n",
       "3  https://www.reddit.com/r/ADHD/comments/rmba1t/...  \n",
       "4  https://www.reddit.com/r/ADHD/comments/rmb8lm/...  "
      ]
     },
     "execution_count": 3,
     "metadata": {},
     "output_type": "execute_result"
    }
   ],
   "source": [
    "# Load dataset\n",
    "ds = load_dataset(\"solomonk/reddit_mental_health_posts\")\n",
    "\n",
    "# Print dataset structure\n",
    "print(f\"Dataset structure: {ds}\")\n",
    "print(f\"\\nFeatures: {ds['train'].features}\")\n",
    "print(f\"\\nNumber of examples: {len(ds['train'])}\")\n",
    "\n",
    "# Convert to pandas dataframe, show first few rows\n",
    "df = ds['train'].to_pandas()\n",
    "df.head()"
   ]
  },
  {
   "cell_type": "code",
   "execution_count": 17,
   "metadata": {},
   "outputs": [
    {
     "name": "stdout",
     "output_type": "stream",
     "text": [
      "Missing values before cleaning:\n",
      "author               0\n",
      "body              1609\n",
      "created_utc          0\n",
      "id                   0\n",
      "num_comments         0\n",
      "score                0\n",
      "subreddit            0\n",
      "title                0\n",
      "upvote_ratio         0\n",
      "url                  0\n",
      "processed_body       0\n",
      "dtype: int64\n",
      "\n",
      "Missing values after cleaning:\n",
      "author            0\n",
      "body              0\n",
      "created_utc       0\n",
      "id                0\n",
      "num_comments      0\n",
      "score             0\n",
      "subreddit         0\n",
      "title             0\n",
      "upvote_ratio      0\n",
      "url               0\n",
      "processed_body    0\n",
      "dtype: int64\n",
      "\n",
      "Total rows remaining: 149679\n"
     ]
    }
   ],
   "source": [
    "# Check missing values\n",
    "print(\"Missing values before cleaning:\")\n",
    "print(df.isnull().sum())\n",
    "\n",
    "# Remove rows with missing values in 'body' column\n",
    "df = df.dropna(subset=['body'])\n",
    "\n",
    "print(\"\\nMissing values after cleaning:\")\n",
    "print(df.isnull().sum())\n",
    "print(f\"\\nTotal rows remaining: {len(df)}\")"
   ]
  },
  {
   "cell_type": "code",
   "execution_count": 18,
   "metadata": {},
   "outputs": [
    {
     "name": "stdout",
     "output_type": "stream",
     "text": [
      "0     [months, ago, accepted, full, time, software, ...\n",
      "1     [hey, guys, curious, anyone, else, issue, me, ...\n",
      "2     [6, exams, next, 2, weeks, one, monday, havent...\n",
      "3     [anyone, struggling, addadhd, thats, interesti...\n",
      "4     [whenever, get, hungry, never, eat, know, eat,...\n",
      "5                                             [removed]\n",
      "6     [im, 20, mg, lexapro, 50, mg, vyvanse, wonderi...\n",
      "7     [recently, big, lifestyle, change, new, job, p...\n",
      "8     [newly, diagnosed, 42, yr, old, female, starte...\n",
      "9     [tldr, rough, time, titrating, concerta, last,...\n",
      "10                                            [removed]\n",
      "11    [adhd, highly, suspect, ocd, hear, lot, intrus...\n",
      "12    [hello, everyone, life, falling, apart, take, ...\n",
      "13    [currently, working, temporary, employment, co...\n",
      "14    [need, advice, dont, know, do, ive, ruined, re...\n",
      "15                                            [removed]\n",
      "16                                            [deleted]\n",
      "17                                            [removed]\n",
      "18                                            [removed]\n",
      "19    [hi, there, reddit, page, helpful, since, diag...\n",
      "Name: processed_body, dtype: object\n"
     ]
    }
   ],
   "source": [
    "def preprocess_post(post):    \n",
    "    post = re.sub(r'\\n', r' ', post) \n",
    "    post = re.sub(r'[^\\x00-\\x7f]', r'', post) \n",
    "    post = post.lower().split() \n",
    "    post = [word for word in post if word not in stop_words] \n",
    "    post = [word for word in post if not word.startswith('http')] \n",
    "    post = [word for word in post if not word.startswith('@')] \n",
    "    post = [word.translate(str.maketrans('', '', string.punctuation)) for word in post] \n",
    "    post = [word for word in post if word] #remove empty strings\n",
    "    return post\n",
    "\n",
    "df['processed_body'] = df['body'].apply(preprocess_post)\n",
    "print(df['processed_body'][:20])"
   ]
  },
  {
   "cell_type": "code",
   "execution_count": 19,
   "metadata": {},
   "outputs": [
    {
     "name": "stdout",
     "output_type": "stream",
     "text": [
      "Topics discovered by LDA model:\n",
      "[(0,\n",
      "  '0.018*\"like\" + 0.013*\"feel\" + 0.012*\"im\" + 0.010*\"know\" + 0.010*\"me\" + '\n",
      "  '0.009*\"get\" + 0.008*\"even\" + 0.008*\"time\" + 0.008*\"want\" + 0.007*\"cant\"'),\n",
      " (1,\n",
      "  '0.011*\"ptsd\" + 0.009*\"sleep\" + 0.008*\"anxiety\" + 0.008*\"day\" + '\n",
      "  '0.007*\"night\" + 0.007*\"get\" + 0.006*\"started\" + 0.006*\"time\" + 0.006*\"work\" '\n",
      "  '+ 0.006*\"panic\"'),\n",
      " (2,\n",
      "  '0.217*\"removed\" + 0.016*\"song\" + 0.016*\"threw\" + 0.015*\"smoking\" + '\n",
      "  '0.013*\"prison\" + 0.011*\"music\" + 0.010*\"blue\" + 0.010*\"snapped\" + '\n",
      "  '0.009*\"songs\" + 0.008*\"cruel\"'),\n",
      " (3,\n",
      "  '0.015*\"ocd\" + 0.013*\"ptsd\" + 0.011*\"people\" + 0.009*\"anyone\" + 0.008*\"also\" '\n",
      "  '+ 0.007*\"would\" + 0.006*\"trauma\" + 0.006*\"therapist\" + 0.006*\"thoughts\" + '\n",
      "  '0.005*\"something\"'),\n",
      " (4,\n",
      "  '0.476*\"deleted\" + 0.012*\"surgery\" + 0.007*\"survivor\" + 0.007*\"shoulder\" + '\n",
      "  '0.007*\"kiss\" + 0.006*\"stood\" + 0.006*\"murder\" + 0.005*\"fought\" + '\n",
      "  '0.005*\"intimacy\" + 0.005*\"graphic\"')]\n"
     ]
    }
   ],
   "source": [
    "dictionary = Dictionary(df['processed_body'])\n",
    "corpus = [dictionary.doc2bow(post) for post in df['processed_body']]\n",
    "\n",
    "lda = LdaModel(\n",
    "               corpus=corpus,\n",
    "               id2word=dictionary,\n",
    "               num_topics=5,\n",
    "               alpha=\"auto\",\n",
    "               eta=\"auto\",\n",
    "               random_state=42,\n",
    "               passes=5,\n",
    "               iterations=1000)\n",
    "\n",
    "print(\"Topics discovered by LDA model:\")\n",
    "pprint(lda.print_topics(num_words=10))"
   ]
  },
  {
   "cell_type": "code",
   "execution_count": null,
   "metadata": {},
   "outputs": [],
   "source": []
  }
 ],
 "metadata": {
  "kernelspec": {
   "display_name": "base",
   "language": "python",
   "name": "python3"
  },
  "language_info": {
   "codemirror_mode": {
    "name": "ipython",
    "version": 3
   },
   "file_extension": ".py",
   "mimetype": "text/x-python",
   "name": "python",
   "nbconvert_exporter": "python",
   "pygments_lexer": "ipython3",
   "version": "3.11.9"
  }
 },
 "nbformat": 4,
 "nbformat_minor": 2
}
